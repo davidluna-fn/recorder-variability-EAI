{
 "cells": [
  {
   "cell_type": "code",
   "execution_count": 2,
   "metadata": {},
   "outputs": [],
   "source": [
    "import torchaudio\n",
    "import os\n",
    "from pathlib import Path\n",
    "from tqdm.notebook import tqdm\n",
    "import sqlite3"
   ]
  },
  {
   "cell_type": "code",
   "execution_count": 2,
   "metadata": {},
   "outputs": [],
   "source": [
    "def divideAudio(path, target_path, duration=5):\n",
    "    ''' \n",
    "    Divide audio into N seconds chunks\n",
    "\n",
    "    Params\n",
    "    ------\n",
    "    path: str\n",
    "        Path to audio file\n",
    "    target_path: str\n",
    "        Path to save audio chunks\n",
    "    duration: int\n",
    "        Duration of each chunk\n",
    "\n",
    "    Returns\n",
    "    -------\n",
    "    None\n",
    "\n",
    "    '''\n",
    "    # Get filename\n",
    "    path = Path(path)\n",
    "    target_path = Path(target_path)\n",
    "    filename = Path(path).stem\n",
    "    if not os.path.exists(target_path):\n",
    "        os.makedirs(target_path)\n",
    "    # Load audio\n",
    "    waveform, sample_rate = torchaudio.load(path,format=\"wav\")\n",
    "    # Split audio\n",
    "    split_waveform = waveform.split(int(sample_rate*duration), dim=1)\n",
    "    # Save audio\n",
    "    for i, audio in tqdm(enumerate(split_waveform),total=len(split_waveform)):\n",
    "        save_path = target_path / f\"{filename}-{i}.wav\"\n",
    "        torchaudio.save(save_path, audio, sample_rate, bits_per_sample=16)"
   ]
  },
  {
   "cell_type": "code",
   "execution_count": 3,
   "metadata": {},
   "outputs": [
    {
     "name": "stdout",
     "output_type": "stream",
     "text": [
      "#######  G0073  #######\n"
     ]
    },
    {
     "data": {
      "application/vnd.jupyter.widget-view+json": {
       "model_id": "06b6eb91234440ab9299c7009c4b81a9",
       "version_major": 2,
       "version_minor": 0
      },
      "text/plain": [
       "  0%|          | 0/119 [00:00<?, ?it/s]"
      ]
     },
     "metadata": {},
     "output_type": "display_data"
    },
    {
     "name": "stdout",
     "output_type": "stream",
     "text": [
      "#######  G0059  #######\n"
     ]
    },
    {
     "data": {
      "application/vnd.jupyter.widget-view+json": {
       "model_id": "352536b21cf744198c1846573093ed9c",
       "version_major": 2,
       "version_minor": 0
      },
      "text/plain": [
       "  0%|          | 0/119 [00:00<?, ?it/s]"
      ]
     },
     "metadata": {},
     "output_type": "display_data"
    },
    {
     "name": "stdout",
     "output_type": "stream",
     "text": [
      "#######    #######\n",
      "Error in  \n",
      "#######  G0075  #######\n"
     ]
    },
    {
     "data": {
      "application/vnd.jupyter.widget-view+json": {
       "model_id": "d1dab1d44e4f46898c3a975a5e9ad044",
       "version_major": 2,
       "version_minor": 0
      },
      "text/plain": [
       "  0%|          | 0/119 [00:00<?, ?it/s]"
      ]
     },
     "metadata": {},
     "output_type": "display_data"
    },
    {
     "name": "stdout",
     "output_type": "stream",
     "text": [
      "#######  G0002  #######\n"
     ]
    },
    {
     "data": {
      "application/vnd.jupyter.widget-view+json": {
       "model_id": "e83171a5775a44b7944ee348bb2fecc6",
       "version_major": 2,
       "version_minor": 0
      },
      "text/plain": [
       "  0%|          | 0/119 [00:00<?, ?it/s]"
      ]
     },
     "metadata": {},
     "output_type": "display_data"
    },
    {
     "name": "stdout",
     "output_type": "stream",
     "text": [
      "#######  G0001  #######\n"
     ]
    },
    {
     "data": {
      "application/vnd.jupyter.widget-view+json": {
       "model_id": "50ae2cbe0f4e464b8685d39ec632913b",
       "version_major": 2,
       "version_minor": 0
      },
      "text/plain": [
       "  0%|          | 0/119 [00:00<?, ?it/s]"
      ]
     },
     "metadata": {},
     "output_type": "display_data"
    },
    {
     "name": "stdout",
     "output_type": "stream",
     "text": [
      "#######  G0024  #######\n"
     ]
    },
    {
     "data": {
      "application/vnd.jupyter.widget-view+json": {
       "model_id": "d73fdf69a1f0496bb5b51b98cdc18a6e",
       "version_major": 2,
       "version_minor": 0
      },
      "text/plain": [
       "  0%|          | 0/119 [00:00<?, ?it/s]"
      ]
     },
     "metadata": {},
     "output_type": "display_data"
    },
    {
     "name": "stdout",
     "output_type": "stream",
     "text": [
      "#######  G0026  #######\n"
     ]
    },
    {
     "data": {
      "application/vnd.jupyter.widget-view+json": {
       "model_id": "f3a9b20a23c44a698e09c21aeef2d1f8",
       "version_major": 2,
       "version_minor": 0
      },
      "text/plain": [
       "  0%|          | 0/119 [00:00<?, ?it/s]"
      ]
     },
     "metadata": {},
     "output_type": "display_data"
    },
    {
     "name": "stdout",
     "output_type": "stream",
     "text": [
      "#######  G0023  #######\n"
     ]
    },
    {
     "data": {
      "application/vnd.jupyter.widget-view+json": {
       "model_id": "45a0fe8e50364b7aa85092a931c0c56d",
       "version_major": 2,
       "version_minor": 0
      },
      "text/plain": [
       "  0%|          | 0/119 [00:00<?, ?it/s]"
      ]
     },
     "metadata": {},
     "output_type": "display_data"
    },
    {
     "name": "stdout",
     "output_type": "stream",
     "text": [
      "#######  G0009  #######\n"
     ]
    },
    {
     "data": {
      "application/vnd.jupyter.widget-view+json": {
       "model_id": "0a603820c7c74cb7aeb3c134b05f11da",
       "version_major": 2,
       "version_minor": 0
      },
      "text/plain": [
       "  0%|          | 0/119 [00:00<?, ?it/s]"
      ]
     },
     "metadata": {},
     "output_type": "display_data"
    },
    {
     "name": "stdout",
     "output_type": "stream",
     "text": [
      "#######  G0020  #######\n"
     ]
    },
    {
     "data": {
      "application/vnd.jupyter.widget-view+json": {
       "model_id": "30cd54012ccd4aafb0186f44ab5c00ea",
       "version_major": 2,
       "version_minor": 0
      },
      "text/plain": [
       "  0%|          | 0/119 [00:00<?, ?it/s]"
      ]
     },
     "metadata": {},
     "output_type": "display_data"
    },
    {
     "name": "stdout",
     "output_type": "stream",
     "text": [
      "#######  G0091  #######\n"
     ]
    },
    {
     "data": {
      "application/vnd.jupyter.widget-view+json": {
       "model_id": "06bf8077214241bf9bca08a2a7ada083",
       "version_major": 2,
       "version_minor": 0
      },
      "text/plain": [
       "  0%|          | 0/119 [00:00<?, ?it/s]"
      ]
     },
     "metadata": {},
     "output_type": "display_data"
    },
    {
     "name": "stdout",
     "output_type": "stream",
     "text": [
      "#######  G0096  #######\n"
     ]
    },
    {
     "data": {
      "application/vnd.jupyter.widget-view+json": {
       "model_id": "bf8df5de3e6640b58a00ae5a8664749d",
       "version_major": 2,
       "version_minor": 0
      },
      "text/plain": [
       "  0%|          | 0/119 [00:00<?, ?it/s]"
      ]
     },
     "metadata": {},
     "output_type": "display_data"
    },
    {
     "name": "stdout",
     "output_type": "stream",
     "text": [
      "#######  G0097  #######\n"
     ]
    },
    {
     "data": {
      "application/vnd.jupyter.widget-view+json": {
       "model_id": "78b6597d2ca64bd5a35465df8892e840",
       "version_major": 2,
       "version_minor": 0
      },
      "text/plain": [
       "  0%|          | 0/119 [00:00<?, ?it/s]"
      ]
     },
     "metadata": {},
     "output_type": "display_data"
    },
    {
     "name": "stdout",
     "output_type": "stream",
     "text": [
      "#######  G0068  #######\n"
     ]
    },
    {
     "data": {
      "application/vnd.jupyter.widget-view+json": {
       "model_id": "e5d1e0f1e2464f8aa7f2a7fd67ff7267",
       "version_major": 2,
       "version_minor": 0
      },
      "text/plain": [
       "  0%|          | 0/119 [00:00<?, ?it/s]"
      ]
     },
     "metadata": {},
     "output_type": "display_data"
    },
    {
     "name": "stdout",
     "output_type": "stream",
     "text": [
      "#######  SM04  #######\n"
     ]
    },
    {
     "data": {
      "application/vnd.jupyter.widget-view+json": {
       "model_id": "e037d9999fdb4e07928b762c174b033d",
       "version_major": 2,
       "version_minor": 0
      },
      "text/plain": [
       "  0%|          | 0/119 [00:00<?, ?it/s]"
      ]
     },
     "metadata": {},
     "output_type": "display_data"
    },
    {
     "name": "stdout",
     "output_type": "stream",
     "text": [
      "#######  G0080  #######\n"
     ]
    },
    {
     "data": {
      "application/vnd.jupyter.widget-view+json": {
       "model_id": "a107907ba94b4dceb352b603778d22a6",
       "version_major": 2,
       "version_minor": 0
      },
      "text/plain": [
       "  0%|          | 0/119 [00:00<?, ?it/s]"
      ]
     },
     "metadata": {},
     "output_type": "display_data"
    }
   ],
   "source": [
    "filelist = os.listdir(\"/Users/davidluna/Documents/Audios/correccioes/cut/\")\n",
    "\n",
    "for file in filelist:\n",
    "    file = file.split('.')[0]\n",
    "    try:\n",
    "        print('####### ', file , ' #######')\n",
    "        pathAudio = f\"/Users/davidluna/Documents/Audios/correccioes/cut/{file}.WAV\"\n",
    "        pathTarget = f\"/Users/davidluna/Documents/Audios/correccioes/splitted/{file}\"\n",
    "        divideAudio(pathAudio, pathTarget, 15)\n",
    "    except:\n",
    "        print('Error in ', file)"
   ]
  },
  {
   "cell_type": "markdown",
   "metadata": {},
   "source": [
    "# Save audio info in DB"
   ]
  },
  {
   "cell_type": "code",
   "execution_count": 16,
   "metadata": {},
   "outputs": [],
   "source": [
    "import torch\n",
    "import torchaudio\n",
    "\n",
    "def getAudioInfo(path):\n",
    "    path = Path(path)\n",
    "    name = path.stem\n",
    "    folder = path.parents[0].stem\n",
    "    waveform, sample_rate = torchaudio.load(path,format=\"wav\")\n",
    "    duration = torchaudio.info(path).num_frames / torchaudio.info(path).sample_rate\n",
    "    channels = torchaudio.info(path).num_channels\n",
    "    bits = torchaudio.info(path).bits_per_sample\n",
    "    return name,folder, duration, sample_rate, channels, bits"
   ]
  },
  {
   "cell_type": "code",
   "execution_count": 15,
   "metadata": {},
   "outputs": [],
   "source": [
    "import sqlite3\n",
    "from pathlib import Path\n",
    "\n",
    "conn = sqlite3.connect('../results/results.db')\n",
    "cursor = conn.cursor()\n",
    "\n",
    "AUDIOPATH = Path('/Users/davidluna/Documents/Audios/compare-recorders/splitted')\n",
    "folders = list(AUDIOPATH.glob('*'))\n",
    "\n",
    "for folder in folders:\n",
    "    if folder.is_dir():\n",
    "        audios = list(folder.glob('*.[Ww][Aa][Vv]'))\n",
    "        for audio in audios:\n",
    "            name,folder, duration, sample_rate, channels, bits = getAudioInfo(audio)\n",
    "            cursor.execute(f\"INSERT INTO audios (name, path, folder, duration, sample_rate, channels, bits) VALUES ('{name}', '{audio}', '{folder}', {duration}, {sample_rate}, {channels}, {bits})\")\n",
    "            conn.commit()\n",
    "\n",
    "conn.close()\n"
   ]
  }
 ],
 "metadata": {
  "kernelspec": {
   "display_name": "ecosap",
   "language": "python",
   "name": "python3"
  },
  "language_info": {
   "codemirror_mode": {
    "name": "ipython",
    "version": 3
   },
   "file_extension": ".py",
   "mimetype": "text/x-python",
   "name": "python",
   "nbconvert_exporter": "python",
   "pygments_lexer": "ipython3",
   "version": "3.11.5"
  }
 },
 "nbformat": 4,
 "nbformat_minor": 2
}
