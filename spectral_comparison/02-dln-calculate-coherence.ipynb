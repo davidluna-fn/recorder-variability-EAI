{
 "cells": [
  {
   "cell_type": "code",
   "execution_count": 1,
   "metadata": {},
   "outputs": [],
   "source": [
    "from ecosap.ecopro import SpectralComparison\n",
    "from pathlib import Path\n",
    "import sqlite3\n",
    "import pandas as pd\n",
    "import pickle\n",
    "import numpy as np\n",
    "from tqdm.notebook import tqdm"
   ]
  },
  {
   "cell_type": "markdown",
   "metadata": {},
   "source": [
    "# Calculate PSD's"
   ]
  },
  {
   "cell_type": "code",
   "execution_count": 2,
   "metadata": {},
   "outputs": [
    {
     "data": {
      "application/vnd.jupyter.widget-view+json": {
       "model_id": "c56f68f26307429ba656238365a22b7e",
       "version_major": 2,
       "version_minor": 0
      },
      "text/plain": [
       "  0%|          | 0/17 [00:00<?, ?it/s]"
      ]
     },
     "metadata": {},
     "output_type": "display_data"
    },
    {
     "data": {
      "application/vnd.jupyter.widget-view+json": {
       "model_id": "aeae36538b61408db643b1048a12f5b7",
       "version_major": 2,
       "version_minor": 0
      },
      "text/plain": [
       "  0%|          | 0/17 [00:00<?, ?it/s]"
      ]
     },
     "metadata": {},
     "output_type": "display_data"
    }
   ],
   "source": [
    "conn = sqlite3.connect('../results/results.db')\n",
    "cursor = conn.cursor()\n",
    "\n",
    "unique_folders = pd.read_sql_query(\"SELECT DISTINCT folder FROM audios\", conn)\n",
    "unique_folders = unique_folders['folder'].tolist()\n",
    "\n",
    "SIGNAL = 'whiteNoise'\n",
    "AUDIOPATH = Path(f'/Users/davidluna/Documents/Audios/{SIGNAL}/splitted/')\n",
    "reference_folder = ['SM04','SM02']\n",
    "# GetPSD is a class that calculates the PSD of a signal\n",
    "# and returns the PSD and the frequencies\n",
    "\n",
    "for x, xfolder in enumerate(reference_folder):\n",
    "    for y, yfolder in tqdm(enumerate(unique_folders), total=len(unique_folders)): \n",
    "        if xfolder == yfolder:\n",
    "            continue\n",
    "        folder_x = pd.read_sql_query(f\"SELECT path FROM audios WHERE folder = '{xfolder}' and signal = '{SIGNAL}'\", conn)\n",
    "        folder_x = folder_x['path'].tolist()\n",
    "        folder_y = pd.read_sql_query(f\"SELECT path FROM audios WHERE folder = '{yfolder}' and signal = '{SIGNAL}'\", conn)\n",
    "        folder_y = folder_y['path'].tolist()\n",
    "\n",
    "        spec_df, f  = SpectralComparison().transform(folder_x, folder_y)\n",
    "        # Save the PSDs in the database\n",
    "        for ind,row in spec_df.iterrows():\n",
    "            \n",
    "            cursor.execute(\"INSERT INTO spectral_comparison (psd_x, psd_y, csd_xy, freq, folder_x, folder_y, signal, n_audio) VALUES (?, ?, ?, ?, ?, ?, ?, ?)\", \n",
    "            (pickle.dumps(row.sxx), pickle.dumps(row.syy), \n",
    "            pickle.dumps(row.sxy), pickle.dumps(f), xfolder,\n",
    "            yfolder,SIGNAL ,ind))\n",
    "        conn.commit()    \n",
    "conn.close()\n"
   ]
  },
  {
   "cell_type": "markdown",
   "metadata": {},
   "source": [
    "# Calculate Coherence"
   ]
  },
  {
   "cell_type": "code",
   "execution_count": 4,
   "metadata": {},
   "outputs": [],
   "source": [
    "def getComparableRange(freq, coh, window_size=10):\n",
    "    if np.max(freq) < window_size:\n",
    "        raise Exception('Window size is bigger than the array size')\n",
    "\n",
    "    if isinstance(coh, list):\n",
    "        coh = np.array(coh)\n",
    "    \n",
    "    if isinstance(freq, list):\n",
    "        freq = np.array(freq)\n",
    "\n",
    "    ws_coh = []\n",
    "    threshold = np.median(coh)\n",
    "    for i in range(0, int(np.max(freq)), window_size):\n",
    "        wcoh = coh[np.logical_and(freq >= i, freq < i+window_size)]\n",
    "        ws_coh.extend([wcoh.mean()]*len(wcoh))\n",
    "\n",
    "    if len(ws_coh) < len(coh):\n",
    "        ws_coh.extend([ws_coh[-1]]*(len(coh)-len(ws_coh)))\n",
    "\n",
    "    mask = ws_coh >= threshold\n",
    "\n",
    "    startFreqRange = []\n",
    "    endFreqRange = []\n",
    "    for i in range(len(mask)):\n",
    "        if i==0:\n",
    "            if not mask[i]:\n",
    "                freq_val = int(freq[i]/1000)\n",
    "                startFreqRange.append(freq_val*1000)\n",
    "        else:\n",
    "            if not mask[i] and mask[i-1]:\n",
    "                freq_val = int(freq[i]/1000)\n",
    "                startFreqRange.append(freq_val*1000)\n",
    "            elif mask[i] and not mask[i-1]:\n",
    "                freq_val = int(freq[i]/1000)\n",
    "                endFreqRange.append(freq_val*1000)\n",
    "\n",
    "    if len(startFreqRange) > len(endFreqRange):\n",
    "        freq_val = int(freq[-1]/1000)\n",
    "        endFreqRange.append(freq_val*1000)\n",
    "\n",
    "    return np.array(ws_coh), np.array(startFreqRange), np.array(endFreqRange)"
   ]
  },
  {
   "cell_type": "code",
   "execution_count": 5,
   "metadata": {},
   "outputs": [],
   "source": [
    "def range2text(startFreqRange, endFreqRange):\n",
    "    text = ''\n",
    "    for i in range(len(startFreqRange)):\n",
    "        text += f'{startFreqRange[i]}k-{endFreqRange[i]}k \\n'\n",
    "    return text"
   ]
  },
  {
   "cell_type": "code",
   "execution_count": 8,
   "metadata": {},
   "outputs": [
    {
     "data": {
      "application/vnd.jupyter.widget-view+json": {
       "model_id": "8b959b65759b4c14b48bc99bd007ccaa",
       "version_major": 2,
       "version_minor": 0
      },
      "text/plain": [
       "  0%|          | 0/17 [00:00<?, ?it/s]"
      ]
     },
     "metadata": {},
     "output_type": "display_data"
    },
    {
     "data": {
      "application/vnd.jupyter.widget-view+json": {
       "model_id": "5fd10fe3ffe844688ca2563fd4061e7c",
       "version_major": 2,
       "version_minor": 0
      },
      "text/plain": [
       "  0%|          | 0/17 [00:00<?, ?it/s]"
      ]
     },
     "metadata": {},
     "output_type": "display_data"
    }
   ],
   "source": [
    "conn = sqlite3.connect('../results/results.db')\n",
    "cursor = conn.cursor()\n",
    "\n",
    "unique_folders = pd.read_sql_query(\"SELECT DISTINCT folder FROM audios\", conn)\n",
    "unique_folders = unique_folders['folder'].tolist()\n",
    "BANDWIDTH = 1000\n",
    "SIGNAL = 'chirp'\n",
    "reference_folder = ['SM04','SM02']\n",
    "\n",
    "\n",
    "for x, xfolder in enumerate(reference_folder):\n",
    "    for y, yfolder in tqdm(enumerate(unique_folders),total=len(unique_folders)):\n",
    "        if xfolder == yfolder:\n",
    "            continue\n",
    "\n",
    "        spc_xy = pd.read_sql_query(f\"SELECT * FROM spectral_comparison WHERE folder_x = '{xfolder}' AND folder_y = '{yfolder}' and signal = '{SIGNAL}'\", conn)\n",
    "        spc_xy['freq'] = spc_xy['freq'].apply(pickle.loads)\n",
    "        freq = spc_xy.freq[0]\n",
    "\n",
    "        spc_xy['psd_x'] = spc_xy['psd_x'].apply(pickle.loads)\n",
    "        spc_xy['psd_y'] = spc_xy['psd_y'].apply(pickle.loads)\n",
    "        spc_xy['csd_xy'] = spc_xy['csd_xy'].apply(pickle.loads)\n",
    "\n",
    "        Pxx = np.array([np.real(x) for x in spc_xy.psd_x]).mean(axis=0)\n",
    "        Pyy = np.array([np.real(x) for x in spc_xy.psd_y]).mean(axis=0)\n",
    "        Pxy = np.array([np.real(x) for x in spc_xy.csd_xy]).mean(axis=0)\n",
    "\n",
    "        coh = abs(Pxy)/(np.sqrt(Pxx)*np.sqrt(Pyy))\n",
    "        coh_mean = np.median(coh)\n",
    "\n",
    "        \n",
    "        coh_mean, startRange, EndRange = getComparableRange(freq,coh.ravel(), BANDWIDTH)\n",
    "\n",
    "        # Save the PSDs in the database\n",
    "        cursor.execute(f\"INSERT INTO comparable_frequency_range (start_freq, end_freq, folder_x, folder_y, signal, bandwidth) VALUES (? , ?, ?, ?, ?, ?)\", (pickle.dumps(startRange),pickle.dumps(EndRange), xfolder, yfolder, SIGNAL, BANDWIDTH ))\n",
    "        conn.commit()\n",
    "conn.close()\n",
    "        "
   ]
  },
  {
   "cell_type": "code",
   "execution_count": 9,
   "metadata": {},
   "outputs": [
    {
     "data": {
      "image/png": "[encoded data removed]",
      "text/plain": [
       "<Figure size 640x480 with 1 Axes>"
      ]
     },
     "metadata": {},
     "output_type": "display_data"
    }
   ],
   "source": [
    "import matplotlib.pyplot as plt\n",
    "\n",
    "conn = sqlite3.connect('../results/results.db')\n",
    "cursor = conn.cursor()\n",
    "\n",
    "unique_folders = pd.read_sql_query(\"SELECT DISTINCT folder FROM audios\", conn)\n",
    "unique_folders = unique_folders['folder'].tolist()\n",
    "\n",
    "reference_folder = ['SM04','SM02']\n",
    "\n",
    "SIGNAL = 'pinkNoise'\n",
    "BANDWIDTH = 1000\n",
    "\n",
    "comparable = np.zeros((len(unique_folders), len(np.arange(0, 22000, BANDWIDTH))))\n",
    "for x, xfolder in enumerate(reference_folder):\n",
    "    for y, yfolder in enumerate(unique_folders):\n",
    "        if xfolder == yfolder:\n",
    "            continue\n",
    "        cfr = pd.read_sql_query(f\"SELECT * FROM comparable_frequency_range WHERE folder_x = '{xfolder}' AND folder_y = '{yfolder}' and signal = '{SIGNAL}' and bandwidth = {BANDWIDTH}\", conn)\n",
    "        if len(cfr) > 0:\n",
    "            start_freq = pickle.loads(cfr['start_freq'].iloc[0])\n",
    "            end_freq = pickle.loads(cfr['end_freq'].iloc[0])\n",
    "            for i in range(len(start_freq)):\n",
    "                start = start_freq[i]\n",
    "                end = end_freq[i]\n",
    "                start_idx = int(start/BANDWIDTH)\n",
    "                end_idx = int(end/BANDWIDTH)\n",
    "                comparable[y, start_idx:end_idx] = 1\n",
    "\n",
    "plt.imshow(comparable.T, cmap='gray', aspect='auto')\n",
    "plt.ylabel('Frequency Band')\n",
    "plt.xlabel('Folder')\n",
    "\n",
    "plt.show()\n"
   ]
  }
 ],
 "metadata": {
  "kernelspec": {
   "display_name": "ecosap",
   "language": "python",
   "name": "python3"
  },
  "language_info": {
   "codemirror_mode": {
    "name": "ipython",
    "version": 3
   },
   "file_extension": ".py",
   "mimetype": "text/x-python",
   "name": "python",
   "nbconvert_exporter": "python",
   "pygments_lexer": "ipython3",
   "version": "3.11.5"
  }
 },
 "nbformat": 4,
 "nbformat_minor": 2
}
