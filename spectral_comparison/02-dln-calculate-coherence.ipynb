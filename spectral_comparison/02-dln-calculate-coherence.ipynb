{
 "cells": [
  {
   "cell_type": "code",
   "execution_count": 2,
   "metadata": {},
   "outputs": [],
   "source": [
    "from ecosap.ecopro import SpectralComparison\n",
    "from pathlib import Path\n",
    "import sqlite3\n",
    "import pandas as pd\n",
    "import pickle"
   ]
  },
  {
   "cell_type": "markdown",
   "metadata": {},
   "source": [
    "# Calculate PSD's"
   ]
  },
  {
   "cell_type": "code",
   "execution_count": null,
   "metadata": {},
   "outputs": [],
   "source": [
    "conn = sqlite3.connect('../results/results.db')\n",
    "cursor = conn.cursor()\n",
    "\n",
    "unique_folders = pd.read_sql_query(\"SELECT DISTINCT folder FROM audios\", conn)\n",
    "unique_folders = unique_folders['folder'].tolist()\n",
    "\n",
    "AUDIOPATH = Path('/Users/davidluna/Documents/Audios/compare-recorders/splitted/')\n",
    "\n",
    "# GetPSD is a class that calculates the PSD of a signal\n",
    "# and returns the PSD and the frequencies\n",
    "\n",
    "for x, xfolder in enumerate(unique_folders):\n",
    "    for y, yfolder in enumerate(unique_folders[x+1:]): \n",
    "        print(f'{xfolder}-{yfolder}')\n",
    "        folder_x = pd.read_sql_query(f\"SELECT path FROM audios WHERE folder = '{xfolder}'\", conn)\n",
    "        folder_x = folder_x['path'].tolist()\n",
    "        folder_y = pd.read_sql_query(f\"SELECT path FROM audios WHERE folder = '{yfolder}'\", conn)\n",
    "        folder_y = folder_y['path'].tolist()\n",
    "\n",
    "        spec_df, f  = SpectralComparison().transform(folder_x, folder_y)\n",
    "        # Save the PSDs in the database\n",
    "        for ind,row in spec_df.iterrows():\n",
    "            \n",
    "            cursor.execute(\"INSERT INTO spectral_comparison (psd_x, psd_y, csd_xy, freq, folder_x, folder_y, n_audio) VALUES (?, ?, ?, ?, ?, ?, ?)\", \n",
    "            (pickle.dumps(row.sxx), pickle.dumps(row.syy), \n",
    "            pickle.dumps(row.sxy), pickle.dumps(f), xfolder,\n",
    "            yfolder,ind))\n",
    "        conn.commit()    \n",
    "conn.close()\n"
   ]
  },
  {
   "cell_type": "markdown",
   "metadata": {},
   "source": [
    "# Calculate Coherence"
   ]
  }
 ],
 "metadata": {
  "kernelspec": {
   "display_name": "ecosap",
   "language": "python",
   "name": "python3"
  },
  "language_info": {
   "codemirror_mode": {
    "name": "ipython",
    "version": 3
   },
   "file_extension": ".py",
   "mimetype": "text/x-python",
   "name": "python",
   "nbconvert_exporter": "python",
   "pygments_lexer": "ipython3",
   "version": "3.11.5"
  }
 },
 "nbformat": 4,
 "nbformat_minor": 2
}
