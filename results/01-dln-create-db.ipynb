{
 "cells": [
  {
   "cell_type": "code",
   "execution_count": 1,
   "metadata": {},
   "outputs": [],
   "source": [
    "import sqlite3"
   ]
  },
  {
   "cell_type": "code",
   "execution_count": 2,
   "metadata": {},
   "outputs": [],
   "source": [
    "conn = sqlite3.connect('results.db')\n",
    "cursor = conn.cursor()\n",
    "\n",
    "cursor.execute('''\n",
    "    CREATE TABLE IF NOT EXISTS audios (\n",
    "        id INTEGER PRIMARY KEY,\n",
    "        name TEXT,\n",
    "        path TEXT,\n",
    "        folder TEXT,\n",
    "        duration INTEGER,\n",
    "        sample_rate INTEGER,\n",
    "        channels INTEGER,\n",
    "        bits INTEGER,\n",
    "        date TEXT\n",
    "    )\n",
    "''')\n",
    "\n",
    "cursor.execute('''\n",
    "    CREATE TABLE IF NOT EXISTS spectral_comparison (\n",
    "        id INTEGER PRIMARY KEY,\n",
    "        psd_x BLOB,\n",
    "        psd_y BLOB,\n",
    "        csd_xy BLOB,\n",
    "        freq BLOB,\n",
    "        folder_x TEXT,\n",
    "        folder_y TEXT,\n",
    "        n_audio INTEGER\n",
    "    )\n",
    "''')\n",
    "\n",
    "cursor.execute('''\n",
    "    CREATE TABLE IF NOT EXISTS comparable_frequency_range (\n",
    "        id INTEGER PRIMARY KEY,\n",
    "        start_freq BLOB,\n",
    "        end_freq BLOB,\n",
    "        folder_x TEXT,\n",
    "        folder_y TEXT\n",
    "    )\n",
    "''')\n",
    "\n",
    "cursor.execute('''\n",
    "    CREATE TABLE IF NOT EXISTS acoustic_indices (\n",
    "        id INTEGER PRIMARY KEY,\n",
    "        folder_x TEXT,\n",
    "        folder_y TEXT,\n",
    "        rx_indices BLOB,\n",
    "        px_indices BLOB,\n",
    "        ry_indices BLOB,\n",
    "        py_indices BLOB\n",
    "    )\n",
    "''')\n",
    "\n",
    "\n",
    "conn.commit()\n",
    "conn.close()\n"
   ]
  },
  {
   "cell_type": "code",
   "execution_count": 3,
   "metadata": {},
   "outputs": [],
   "source": [
    "conn = sqlite3.connect('results.db')\n",
    "cursor = conn.cursor()\n",
    "\n",
    "\n",
    "cursor.execute('''\n",
    "    DROP TABLE IF EXISTS acoustic_indices\n",
    "''')\n",
    "conn.commit()\n",
    "conn.close()"
   ]
  }
 ],
 "metadata": {
  "kernelspec": {
   "display_name": "ecosap",
   "language": "python",
   "name": "python3"
  },
  "language_info": {
   "codemirror_mode": {
    "name": "ipython",
    "version": 3
   },
   "file_extension": ".py",
   "mimetype": "text/x-python",
   "name": "python",
   "nbconvert_exporter": "python",
   "pygments_lexer": "ipython3",
   "version": "3.11.5"
  }
 },
 "nbformat": 4,
 "nbformat_minor": 2
}
