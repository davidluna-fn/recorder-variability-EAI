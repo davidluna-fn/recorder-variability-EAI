{
 "cells": [
  {
   "cell_type": "code",
   "execution_count": null,
   "metadata": {},
   "outputs": [],
   "source": [
    "## Author: David Luna \n",
    "## Date: 12/11/2021\n",
    "## SISTEMIC\n",
    "import sys\n",
    "import numpy as np\n",
    "from functools import partial\n",
    "from pathlib import Path\n",
    "import pandas as pd\n",
    "from pathlib import Path\n",
    "import concurrent.futures\n",
    "import time\n",
    "import psutil\n",
    "import warnings\n",
    "from tqdm.notebook import tqdm\n",
    "import maad\n",
    "from scipy.signal import spectrogram\n",
    "from scipy.signal import welch\n",
    "\n",
    "sys.path.append(\"/home/david/Documents/Codes/postgresql/\")\n",
    "sys.path.append(\"../utils/\")\n",
    "\n",
    "warnings.filterwarnings(\"ignore\")\n",
    "\n",
    "#from functions.rawpsd import *\n",
    "#from functions.rawindex import *\n",
    "#from functions.procindex import *\n",
    "from utils import *\n",
    "#from functions.cpsd import *\n",
    "import indices as indices\n",
    "#from torchaudio.transforms import Spectrogram"
   ]
  },
  {
   "cell_type": "markdown",
   "metadata": {
    "tags": []
   },
   "source": [
    "## Funciones"
   ]
  },
  {
   "cell_type": "code",
   "execution_count": null,
   "metadata": {},
   "outputs": [],
   "source": [
    "def get_indices(name, processed=False, fs2=None):\n",
    "    try:\n",
    "        s, fs = torchaudio.load(str(name))\n",
    "        if s.size()[0] != 1:\n",
    "            s = torch.unsqueeze(s[0,:], 0)\n",
    "               \n",
    "        indc = []\n",
    "        tamano_ventana = 512\n",
    "        nfft = 512\n",
    "        tipo_ventana =\"hann\",\n",
    "        sobreposicion = 0\n",
    "        \n",
    "        if processed == True:\n",
    "            if fs != fs2:\n",
    "                s = F.resample(s,fs,fs2,resampling_method=\"kaiser_window\")\n",
    "                fs = fs2      \n",
    "            \n",
    "            \n",
    "            s = s/torch.sqrt(torch.mean(s**2))\n",
    "            \n",
    "            Sxx, tn, fn, ext = maad.sound.spectrogram(s[0,:], fs, mode='amplitude')\n",
    "            Sxx_power,_,_,_ = maad.sound.spectrogram(s[0,:], fs)\n",
    "\n",
    "            ACIft_ = indices.ACIft(Sxx)\n",
    "            ADI  = maad.features.acoustic_diversity_index(Sxx,fn,fmax=int(fs/2))\n",
    "            BETA = maad.features.bioacoustics_index(Sxx,fn,flim=(2000, 8000) , R_compatible=None)\n",
    "            M = maad.features.temporal_median(s[0,:],mode='hilbert')\n",
    "            \n",
    "            Sxx_power2 = np.mean(Sxx_power, axis=1)\n",
    "            Sxx_power2 = Sxx_power2[fn<=24000]\n",
    "            fn2 = fn[fn<=24000]\n",
    "\n",
    "            NP = maad.features.number_of_peaks(Sxx_power2, fn2, slopes=6, min_freq_dist=100, display=False)\n",
    "            Hf, _ = maad.features.frequency_entropy(Sxx_power2) \n",
    "            Ht = maad.features.temporal_entropy(s.numpy()[0,:], mode='hilbert')\n",
    "            H = Ht*Hf\n",
    "            \n",
    "            AEI = maad.features.acoustic_eveness_index(Sxx,fn, fmax=int(fs/2))\n",
    "            NDSI, _, _, _  = maad.features.soundscape_index(Sxx_power,fn, flim_bioPh=(2000, 8000), flim_antroPh=(0, 2000), R_compatible=None)\n",
    "            indc.extend([str(name).split('/')[-1],str(name).split('/')[-2],ACIft_,ADI,BETA,M,NP,H,AEI,NDSI])\n",
    "\n",
    "            return indc\n",
    "\n",
    "        else:\n",
    "            Sxx, tn, fn, ext = maad.sound.spectrogram(s[0,:], fs, mode='amplitude')\n",
    "            Sxx_power,_,_,_ = maad.sound.spectrogram(s[0,:], fs)\n",
    "\n",
    "\n",
    "            ACIft_ = indices.ACIft(Sxx)\n",
    "            ADI  = maad.features.acoustic_diversity_index(Sxx,fn,fmax=int(fs/2))\n",
    "            BETA = maad.features.bioacoustics_index(Sxx,fn,flim=(2000, 8000) , R_compatible=None)\n",
    "            M = maad.features.temporal_median(s[0,:],mode='hilbert')\n",
    "            NP = maad.features.number_of_peaks(Sxx_power, fn, slopes=6, min_freq_dist=100, display=False)\n",
    "            Hf, _ = maad.features.frequency_entropy(Sxx_power) \n",
    "            Ht = maad.features.temporal_entropy(s.numpy()[0,:], mode='hilbert')\n",
    "            H = Ht*Hf\n",
    "            AEI = maad.features.acoustic_eveness_index(Sxx,fn,fmax=int(fs/2))\n",
    "            NDSI, _, _, _  = maad.features.soundscape_index(Sxx_power,fn, flim_bioPh=(2000, 8000), flim_antroPh=(0, 2000), R_compatible=None )\n",
    "\n",
    "            indc.extend([str(name).split('/')[-1],str(name).split('/')[-2],ACIft_,ADI,BETA,M,NP,H,AEI,NDSI])\n",
    "\n",
    "            return indc\n",
    "\n",
    "    except:\n",
    "        return np.nan\n",
    "\n",
    "\n",
    "\n",
    "def get_psd(name, processed=False, fs2=None):\n",
    "    try:\n",
    "        s, fs = torchaudio.load(str(name))\n",
    "        if s.size()[0] != 1:\n",
    "            s = torch.unsqueeze(s[0,:], 0)\n",
    "        if fs != fs2 and processed == True:\n",
    "            s = F.resample(s,fs,fs2,resampling_method=\"kaiser_window\")\n",
    "            fs = fs2\n",
    "        if fs == 48000:\n",
    "            freq, Pxx = welch(s.numpy()[0], fs, nfft=512, noverlap=0)\n",
    "        elif fs == 44100:\n",
    "            freq, Pxx = welch(s, fs, nfft=512, noverlap=0)\n",
    "\n",
    "        return [str(name).split('/')[-1], str(name).split('/')[-2], Pxx, freq]\n",
    "\n",
    "    except:\n",
    "        return welch(s.numpy()[0], fs, nfft=512, noverlap=0)\n",
    "\n",
    "\n",
    "def get_spectrogram(name, processed=False, fs2=None):\n",
    "    try:\n",
    "        s, fs = torchaudio.load(str(name))\n",
    "        if s.size()[0] != 1:\n",
    "            s = torch.unsqueeze(s[0,:], 0)\n",
    "        \n",
    "        if fs != fs2 and processed == True:\n",
    "            s = F.resample(s,fs,fs2,resampling_method=\"kaiser_window\")\n",
    "            fs = fs2\n",
    "                \n",
    "\n",
    "        f, t, Sxx = spectrogram(x=s, fs=fs,nfft=512, scaling='spectrum',mode ='magnitude', noverlap=0)\n",
    "        return [str(name).split('/')[-1], str(name).split('/')[-2], Sxx, t, f]\n",
    "\n",
    "    except:\n",
    "        return np.nan"
   ]
  },
  {
   "cell_type": "markdown",
   "metadata": {
    "jp-MarkdownHeadingCollapsed": true,
    "tags": []
   },
   "source": [
    "### Calcular indices sin procesar"
   ]
  },
  {
   "cell_type": "code",
   "execution_count": null,
   "metadata": {},
   "outputs": [],
   "source": [
    "path = Path('/media/david/hdd/datasets/San Miguel')\n",
    "files = list(path.rglob(\"*.[wW][aA][vV]\"))\n",
    "folder = str(path).split('/')[-1]\n",
    "workers = psutil.cpu_count(logical=True) -2\n",
    "fun = partial(get_indices,processed=False, fs2=None)\n",
    "count = 0\n",
    "\n",
    "print(f'Number files: {len(files)}')\n",
    "\n",
    "list_ind = []\n",
    "with concurrent.futures.ProcessPoolExecutor(max_workers=workers) as executor:\n",
    "    start = time.time()\n",
    "    for number, indics in zip(files, executor.map(fun, files)):\n",
    "        list_ind.append(indics)\n",
    "        count += 1\n",
    "        \n",
    "    stop = time.time()\n",
    "    elapsed = stop - start\n",
    "    print(f'Tiempo: {np.round(elapsed,2)} [Seg]')\n",
    "    df = pd.DataFrame(columns=[\"name\",\"folder\",\"ACIft\",\"ADI\",\"BETA\",\"M\",\"NP\",\"H\",\"AEI\",\"NDSI\"], data=np.array(list_ind))\n",
    "    df.to_excel(f'/home/david/Documentos/Codes/codes-indices-recorders/results/{folder}_indices.xlsx')"
   ]
  },
  {
   "cell_type": "markdown",
   "metadata": {},
   "source": [
    "### Calcular indices procesando"
   ]
  },
  {
   "cell_type": "code",
   "execution_count": null,
   "metadata": {},
   "outputs": [],
   "source": [
    "path = Path('/media/david/hdd/datasets/San Miguel')\n",
    "files = list(path.rglob(\"*.[wW][aA][vV]\"))\n",
    "folder = str(path).split('/')[-1]\n",
    "workers = psutil.cpu_count(logical=True)\n",
    "fun = partial(get_indices,processed=True, fs2=48000)\n",
    "count = 0\n",
    "\n",
    "list_ind = []\n",
    "\n",
    "\n",
    "print(f'Number files: {len(files)}')\n",
    "\n",
    "start = time.time()\n",
    "for f in tqdm(files):\n",
    "    indics = fun(f)\n",
    "    list_ind.append(indics)\n",
    "    stop = time.time()\n",
    "    elapsed = stop - start\n",
    "print(f'Tiempo: {np.round(elapsed,2)} [Seg]')\n",
    "    \n",
    "df = pd.DataFrame(columns=[\"name\",\"folder\",\"ACIft\",\"ADI\",\"BETA\",\"M\",\"NP\",\"H\",\"AEI\",\"NDSI\"], data=np.array(list_ind))\n",
    "df.to_excel(f'/home/david/Documentos/Codes/codes-indices-recorders/results/{folder}_indices_processed.xlsx')\n"
   ]
  },
  {
   "cell_type": "markdown",
   "metadata": {
    "tags": []
   },
   "source": [
    "# PSD raw"
   ]
  },
  {
   "cell_type": "code",
   "execution_count": null,
   "metadata": {},
   "outputs": [],
   "source": [
    "path = Path('/media/david/hdd/datasets/San Miguel')\n",
    "files = list(path.rglob(\"*.[wW][aA][vV]\"))\n",
    "folder = str(path).split('/')[-1]\n",
    "workers = psutil.cpu_count(logical=True) -3\n",
    "fun = partial(get_psd,processed=False, fs2=None)\n",
    "\n",
    "print(len(files))\n",
    "df = {'columns':[\"name\",\"folder\",\"PSD\",\"freq\"]}\n",
    "temp = []\n",
    "\n",
    "with concurrent.futures.ProcessPoolExecutor(max_workers=workers) as executor:\n",
    "    start = time.time()\n",
    "    count = 0\n",
    "    for number, psds in tqdm(zip(files, executor.map(fun, files)),total=len(files)):\n",
    "        temp.append(psds)\n",
    "        count += 1\n",
    "    stop = time.time()\n",
    "    elapsed = stop - start\n",
    "    print(f'Tiempo: {np.round(elapsed,2)} [Seg]')\n",
    "    df['data'] = temp\n",
    "    torch.save(df,f'{folder}_psd.pth')\n"
   ]
  },
  {
   "cell_type": "markdown",
   "metadata": {
    "tags": []
   },
   "source": [
    "# PSD Filtrada"
   ]
  },
  {
   "cell_type": "code",
   "execution_count": null,
   "metadata": {},
   "outputs": [],
   "source": [
    "path = Path('/media/david/7316-1D94/datasets/camilo')\n",
    "files = list(path.rglob(\"*.[wW][aA][vV]\"))\n",
    "folder = str(path).split('/')[-1]\n",
    "workers = psutil.cpu_count(logical=True) -1\n",
    "fun = partial(get_psd,processed=True, fs2=44100)\n",
    "\n",
    "\n",
    "df = {'columns':[\"name\",\"folder\",\"PSD\",\"freq\"]}\n",
    "temp = []\n",
    "\n",
    "with concurrent.futures.ProcessPoolExecutor(max_workers=workers) as executor:\n",
    "    start = time.time()\n",
    "    count = 0\n",
    "    for number, psds in tqdm(zip(files, executor.map(fun, files)),total=len(files)):\n",
    "        temp.append(psds)\n",
    "        count += 1\n",
    "    stop = time.time()\n",
    "    elapsed = stop - start\n",
    "    print(f'Tiempo: {np.round(elapsed,2)} [Seg]')\n",
    "    df['data'] = temp\n",
    "    torch.save(df,f'{folder}_psd_processed.pth')"
   ]
  },
  {
   "cell_type": "markdown",
   "metadata": {
    "tags": []
   },
   "source": [
    "# Espectrograma promedio sin procesar"
   ]
  },
  {
   "cell_type": "code",
   "execution_count": null,
   "metadata": {},
   "outputs": [],
   "source": [
    "path = Path('/media/david/7316-1D94/datasets/camilo')\n",
    "files = list(path.rglob(\"*.[wW][aA][vV]\"))\n",
    "folder = str(path).split('/')[-1]\n",
    "workers = psutil.cpu_count(logical=True) -3\n",
    "fun = partial(get_spectrogram,processed=False, fs2=None)\n",
    "\n",
    "\n",
    "df = {'columns':[\"name\",\"folder\",\"Sxx\",'time','freq']}\n",
    "temp = []\n",
    "\n",
    "spec_prom = {\n",
    "    'spec_G21A':0,\n",
    "    'spec_G60A':0,\n",
    "    'spec_S1A':0,\n",
    "    'spec_S2A':0,\n",
    "    'spec_G21S':0,\n",
    "    'spec_G60S':0,\n",
    "    'spec_S1S':0,\n",
    "    'spec_S2S':0,\n",
    "    'count_G21A':0,\n",
    "    'count_G60A':0,\n",
    "    'count_S1A':0,\n",
    "    'count_S2A':0,\n",
    "    'count_G21S':0,\n",
    "    'count_G60S':0,\n",
    "    'count_S1S':0,\n",
    "    'count_S2S':0,\n",
    "}\n",
    "\n",
    "for x in tqdm(list(files)):\n",
    "    data = get_spectrogram(str(x), processed=False, fs2=None)\n",
    "    spec_prom[f'spec_{data[1]}'] += data[2]\n",
    "    spec_prom[f'count_{data[1]}'] += 1\n",
    "    spec_prom[f'time_{data[1]}'] = data[3]\n",
    "    spec_prom[f'freq_{data[1]}'] = data[4]\n",
    "    \n",
    "   \n",
    "torch.save(spec_prom,f'{folder}_spectrogram.pth')\n"
   ]
  }
 ],
 "metadata": {
  "kernelspec": {
   "display_name": "Python 3 (ipykernel)",
   "language": "python",
   "name": "python3"
  },
  "language_info": {
   "codemirror_mode": {
    "name": "ipython",
    "version": 3
   },
   "file_extension": ".py",
   "mimetype": "text/x-python",
   "name": "python",
   "nbconvert_exporter": "python",
   "pygments_lexer": "ipython3",
   "version": "3.9.2"
  },
  "vscode": {
   "interpreter": {
    "hash": "e7370f93d1d0cde622a1f8e1c04877d8463912d04d973331ad4851f04de6915a"
   }
  }
 },
 "nbformat": 4,
 "nbformat_minor": 4
}
